{
 "cells": [
  {
   "cell_type": "code",
   "execution_count": 1,
   "metadata": {},
   "outputs": [],
   "source": [
    "import json"
   ]
  },
  {
   "cell_type": "code",
   "execution_count": 16,
   "metadata": {},
   "outputs": [
    {
     "data": {
      "text/plain": [
       "'rust_level_2'"
      ]
     },
     "execution_count": 16,
     "metadata": {},
     "output_type": "execute_result"
    }
   ],
   "source": [
    "import pandas as pd\n",
    "\n",
    "df = pd.read_excel('Annotations/RoCoLe-classes.xlsx')\n",
    "df.head()\n",
    "indexed = df.set_index('File')\n",
    "indexed.loc['C1P2E2.jpg']['Multiclass.Label']"
   ]
  },
  {
   "cell_type": "code",
   "execution_count": 17,
   "metadata": {},
   "outputs": [],
   "source": [
    "f = open('RoCoLE-coco.json')\n",
    "data = json.load(f)"
   ]
  },
  {
   "cell_type": "code",
   "execution_count": 18,
   "metadata": {},
   "outputs": [],
   "source": [
    "count = 0\n",
    "ids_map = {}\n",
    "for i in data['images']:\n",
    "    index = i['file_name'].rfind('-')\n",
    "    name = i['file_name'][index+1:]\n",
    "    i['file_name'] = name\n",
    "    i['flickr_url'] = name\n",
    "    i['coco_url'] = name\n",
    "    ids_map[i['id']] = indexed.loc[name]['Multiclass.Label']\n",
    "\n",
    "# print(data)\n",
    "json.dump(data, open('test2.json', 'w'))"
   ]
  },
  {
   "cell_type": "code",
   "execution_count": 23,
   "metadata": {},
   "outputs": [],
   "source": [
    "df.groupby('Multiclass.Label').count()\n",
    "classes = {\n",
    "    'healthy': 1,\n",
    "    'red_spider_mite': 2,\n",
    "    'rust_level_1': 3,\n",
    "    'rust_level_2': 4,\n",
    "    'rust_level_3': 5,\n",
    "    'rust_level_4': 6\n",
    "}"
   ]
  },
  {
   "cell_type": "code",
   "execution_count": 24,
   "metadata": {},
   "outputs": [],
   "source": [
    "for a in data['annotations']:\n",
    "    a['category_id'] = classes[ids_map[a['image_id']]]\n",
    "\n",
    "json.dump(data, open('anotacoes.json', 'w'))"
   ]
  },
  {
   "cell_type": "code",
   "execution_count": null,
   "metadata": {},
   "outputs": [],
   "source": []
  }
 ],
 "metadata": {
  "kernelspec": {
   "display_name": "Python 3.9.5 64-bit",
   "language": "python",
   "name": "python3"
  },
  "language_info": {
   "codemirror_mode": {
    "name": "ipython",
    "version": 3
   },
   "file_extension": ".py",
   "mimetype": "text/x-python",
   "name": "python",
   "nbconvert_exporter": "python",
   "pygments_lexer": "ipython3",
   "version": "3.9.5"
  },
  "orig_nbformat": 4,
  "vscode": {
   "interpreter": {
    "hash": "81794d4967e6c3204c66dcd87b604927b115b27c00565d3d43f05ba2f3a2cb0d"
   }
  }
 },
 "nbformat": 4,
 "nbformat_minor": 2
}
